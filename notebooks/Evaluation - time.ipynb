{
 "cells": [
  {
   "cell_type": "code",
   "execution_count": null,
   "metadata": {},
   "outputs": [],
   "source": [
    "%%capture\n",
    "%load_ext autoreload\n",
    "%autoreload 2\n",
    "#Basic Imports\n",
    "import os,sys\n",
    "os.chdir(\"..\")\n",
    "\n",
    "from tqdm import tqdm,trange\n",
    "import numpy as np\n",
    "import matplotlib.pyplot as plt\n",
    "from sklearn.metrics import classification_report,confusion_matrix, ConfusionMatrixDisplay\n",
    "import torch\n",
    "import pandas\n",
    "\n",
    "from datasets.ssl_dataset import SSL_Dataset\n",
    "from datasets.data_utils import get_data_loader\n",
    "from utils import get_model_checkpoints_and_timing_info\n",
    "from utils import net_builder\n",
    "from utils import clean_results_df"
   ]
  },
  {
   "cell_type": "code",
   "execution_count": null,
   "metadata": {},
   "outputs": [],
   "source": [
    "#Path to the runs to load\n",
    "csv_folder = \"/home/gabrielemeoni/project/SSLRS/\"\n",
    "dataset=\"eurosat_ms\"\n",
    "folder = \"/scratch/fixmatch_results/sandy_runs/nr_of_labels/\"\n",
    "sort_criterion = \"net\" # Accepted net, numlabels\n",
    "seed_wanted = 2# Seed wanted (the others will be filtered)"
   ]
  },
  {
   "cell_type": "markdown",
   "metadata": {},
   "source": [
    "## Initialize parameters"
   ]
  },
  {
   "cell_type": "code",
   "execution_count": null,
   "metadata": {},
   "outputs": [],
   "source": [
    "folder=os.path.join(folder, dataset)\n",
    "checkpoints, run_args, timing_info = get_model_checkpoints_and_timing_info(folder)\n",
    "timing_info_dict = dict(zip(checkpoints, timing_info))\n",
    "if os.name == 'nt':\n",
    "       [print(_.split(\"\\\\\")[1]) for _ in checkpoints];\n",
    "else:\n",
    "       [print(_.split(\"/\")[1]) for _ in checkpoints];"
   ]
  },
  {
   "cell_type": "markdown",
   "metadata": {},
   "source": [
    "## Run all models"
   ]
  },
  {
   "cell_type": "code",
   "execution_count": null,
   "metadata": {},
   "outputs": [],
   "source": [
    "results=[]\n",
    "for checkpoint, args in zip(checkpoints,run_args):\n",
    "    print(\"------------ RUNNING \", checkpoint, \" -----------------\")\n",
    "    args[\"batch_size\"] = 256\n",
    "    args[\"data_dir\"] = \"./data/\"\n",
    "    args[\"use_train_model\"] = False\n",
    "    args[\"load_path\"] = checkpoint\n",
    "    if args[\"seed\"] == seed_wanted:\n",
    "        results.append({\"params\" : args, \"aumgent_time\" : timing_info_dict[checkpoint][0], \"run_time\" : timing_info_dict[checkpoint][1], \"training_time\" : timing_info_dict[checkpoint][2]})"
   ]
  },
  {
   "cell_type": "code",
   "execution_count": null,
   "metadata": {},
   "outputs": [],
   "source": [
    "import pandas as pd\n",
    "big_df = pd.DataFrame()\n",
    "pd.set_option('display.max_columns', None)\n",
    "for result in results:\n",
    "    result_dict=result[\"params\"].copy()\n",
    "    result_dict.update({\"aumgent_time\" : result[\"aumgent_time\"]})\n",
    "    result_dict.update({\"run_time\" : result[\"run_time\"]} )\n",
    "    result_dict.update({\"training_time\" : result[\"training_time\"]})\n",
    "    df = pd.DataFrame(result_dict, index=[0])\n",
    "    df = df.set_index([\"dataset\"])\n",
    "    df = df.drop(labels=[\"batch_size\",\"data_dir\", \"opt\", \"use_train_model\", \"seed\", \"confidence\", \"lr\"], axis=1)\n",
    "    big_df = big_df.append(df)\n",
    "\n",
    "big_df=big_df.sort_values(by=[sort_criterion], axis=0)\n",
    "big_df.to_csv(os.path.join(csv_folder,\"time_results_\"+dataset+\"_seed_\"+str(seed_wanted)+\".csv\"))\n",
    "print(\"File saved at: \", os.path.join(csv_folder,\"time_results_\"+dataset+\"_seed_\"+str(seed_wanted)+\".csv\"))"
   ]
  },
  {
   "cell_type": "code",
   "execution_count": null,
   "metadata": {},
   "outputs": [],
   "source": []
  },
  {
   "cell_type": "code",
   "execution_count": null,
   "metadata": {},
   "outputs": [],
   "source": []
  }
 ],
 "metadata": {
  "kernelspec": {
   "display_name": "Python 3",
   "language": "python",
   "name": "python3"
  },
  "language_info": {
   "codemirror_mode": {
    "name": "ipython",
    "version": 3
   },
   "file_extension": ".py",
   "mimetype": "text/x-python",
   "name": "python",
   "nbconvert_exporter": "python",
   "pygments_lexer": "ipython3",
   "version": "3.8.6"
  }
 },
 "nbformat": 4,
 "nbformat_minor": 4
}
